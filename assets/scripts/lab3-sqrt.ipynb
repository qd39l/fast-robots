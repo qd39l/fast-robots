{
 "cells": [
  {
   "cell_type": "code",
   "execution_count": 7,
   "metadata": {},
   "outputs": [
    {
     "data": {
      "text/plain": [
       "979.6446789525272"
      ]
     },
     "execution_count": 7,
     "metadata": {},
     "output_type": "execute_result"
    }
   ],
   "source": [
    "xyz = [-186.04, 960.45, 51.27]\n",
    "(xyz[0] ** 2 + xyz[1] ** 2 + xyz[2] ** 2) ** 0.5"
   ]
  }
 ],
 "metadata": {
  "interpreter": {
   "hash": "624156810c38c1148abd8f12cf18d747bee8a82e5fadf7ffa280867bf6ff6fe3"
  },
  "kernelspec": {
   "display_name": "Python 3.8.5 ('base')",
   "language": "python",
   "name": "python3"
  },
  "language_info": {
   "codemirror_mode": {
    "name": "ipython",
    "version": 3
   },
   "file_extension": ".py",
   "mimetype": "text/x-python",
   "name": "python",
   "nbconvert_exporter": "python",
   "pygments_lexer": "ipython3",
   "version": "3.8.5"
  },
  "orig_nbformat": 4
 },
 "nbformat": 4,
 "nbformat_minor": 2
}
